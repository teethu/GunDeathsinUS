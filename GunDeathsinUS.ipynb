{
 "cells": [
  {
   "cell_type": "markdown",
   "metadata": {},
   "source": [
    "# Exploring Gun Deaths in the US (Period 2012-2014)"
   ]
  },
  {
   "cell_type": "markdown",
   "metadata": {},
   "source": [
    "### Load Gun Death data into a list"
   ]
  },
  {
   "cell_type": "code",
   "execution_count": 1,
   "metadata": {},
   "outputs": [
    {
     "data": {
      "text/plain": [
       "[['',\n",
       "  'year',\n",
       "  'month',\n",
       "  'intent',\n",
       "  'police',\n",
       "  'sex',\n",
       "  'age',\n",
       "  'race',\n",
       "  'hispanic',\n",
       "  'place',\n",
       "  'education'],\n",
       " ['1',\n",
       "  '2012',\n",
       "  '01',\n",
       "  'Suicide',\n",
       "  '0',\n",
       "  'M',\n",
       "  '34',\n",
       "  'Asian/Pacific Islander',\n",
       "  '100',\n",
       "  'Home',\n",
       "  '4'],\n",
       " ['2', '2012', '01', 'Suicide', '0', 'F', '21', 'White', '100', 'Street', '3'],\n",
       " ['3',\n",
       "  '2012',\n",
       "  '01',\n",
       "  'Suicide',\n",
       "  '0',\n",
       "  'M',\n",
       "  '60',\n",
       "  'White',\n",
       "  '100',\n",
       "  'Other specified',\n",
       "  '4'],\n",
       " ['4', '2012', '02', 'Suicide', '0', 'M', '64', 'White', '100', 'Home', '4']]"
      ]
     },
     "execution_count": 1,
     "metadata": {},
     "output_type": "execute_result"
    }
   ],
   "source": [
    "import csv\n",
    "f = open(\"guns.csv\",'r')\n",
    "csvreader = csv.reader(f)\n",
    "data = list(csvreader)\n",
    "data[:5]"
   ]
  },
  {
   "cell_type": "markdown",
   "metadata": {},
   "source": [
    "### Drop Header"
   ]
  },
  {
   "cell_type": "code",
   "execution_count": 2,
   "metadata": {},
   "outputs": [
    {
     "name": "stdout",
     "output_type": "stream",
     "text": [
      "[['', 'year', 'month', 'intent', 'police', 'sex', 'age', 'race', 'hispanic', 'place', 'education']]\n"
     ]
    },
    {
     "data": {
      "text/plain": [
       "[['1',\n",
       "  '2012',\n",
       "  '01',\n",
       "  'Suicide',\n",
       "  '0',\n",
       "  'M',\n",
       "  '34',\n",
       "  'Asian/Pacific Islander',\n",
       "  '100',\n",
       "  'Home',\n",
       "  '4'],\n",
       " ['2', '2012', '01', 'Suicide', '0', 'F', '21', 'White', '100', 'Street', '3'],\n",
       " ['3',\n",
       "  '2012',\n",
       "  '01',\n",
       "  'Suicide',\n",
       "  '0',\n",
       "  'M',\n",
       "  '60',\n",
       "  'White',\n",
       "  '100',\n",
       "  'Other specified',\n",
       "  '4'],\n",
       " ['4', '2012', '02', 'Suicide', '0', 'M', '64', 'White', '100', 'Home', '4'],\n",
       " ['5',\n",
       "  '2012',\n",
       "  '02',\n",
       "  'Suicide',\n",
       "  '0',\n",
       "  'M',\n",
       "  '31',\n",
       "  'White',\n",
       "  '100',\n",
       "  'Other specified',\n",
       "  '2']]"
      ]
     },
     "execution_count": 2,
     "metadata": {},
     "output_type": "execute_result"
    }
   ],
   "source": [
    "headers = data[0:1]\n",
    "data = data[1:len(data)]\n",
    "print(headers)\n",
    "data[:5]"
   ]
  },
  {
   "cell_type": "markdown",
   "metadata": {},
   "source": [
    "### Create a dictionary with yearwise counts of deaths"
   ]
  },
  {
   "cell_type": "code",
   "execution_count": 3,
   "metadata": {},
   "outputs": [
    {
     "data": {
      "text/plain": [
       "{'2012': 33563, '2013': 33636, '2014': 33599}"
      ]
     },
     "execution_count": 3,
     "metadata": {},
     "output_type": "execute_result"
    }
   ],
   "source": [
    "years = []\n",
    "for row in data:\n",
    "    years.append(row[1])\n",
    "year_counts = {}\n",
    "for year in years:\n",
    "    if year in year_counts:\n",
    "        year_counts[year] = year_counts[year] + 1\n",
    "    else:\n",
    "        year_counts[year] = 1 \n",
    "year_counts"
   ]
  },
  {
   "cell_type": "markdown",
   "metadata": {},
   "source": [
    "### Convert the Year and Month columns and create a Datetime object"
   ]
  },
  {
   "cell_type": "code",
   "execution_count": 4,
   "metadata": {},
   "outputs": [
    {
     "data": {
      "text/plain": [
       "[['1',\n",
       "  '2012',\n",
       "  '01',\n",
       "  'Suicide',\n",
       "  '0',\n",
       "  'M',\n",
       "  '34',\n",
       "  'Asian/Pacific Islander',\n",
       "  '100',\n",
       "  'Home',\n",
       "  '4',\n",
       "  datetime.datetime(2012, 1, 1, 0, 0)],\n",
       " ['2',\n",
       "  '2012',\n",
       "  '01',\n",
       "  'Suicide',\n",
       "  '0',\n",
       "  'F',\n",
       "  '21',\n",
       "  'White',\n",
       "  '100',\n",
       "  'Street',\n",
       "  '3',\n",
       "  datetime.datetime(2012, 1, 1, 0, 0)],\n",
       " ['3',\n",
       "  '2012',\n",
       "  '01',\n",
       "  'Suicide',\n",
       "  '0',\n",
       "  'M',\n",
       "  '60',\n",
       "  'White',\n",
       "  '100',\n",
       "  'Other specified',\n",
       "  '4',\n",
       "  datetime.datetime(2012, 1, 1, 0, 0)],\n",
       " ['4',\n",
       "  '2012',\n",
       "  '02',\n",
       "  'Suicide',\n",
       "  '0',\n",
       "  'M',\n",
       "  '64',\n",
       "  'White',\n",
       "  '100',\n",
       "  'Home',\n",
       "  '4',\n",
       "  datetime.datetime(2012, 2, 1, 0, 0)],\n",
       " ['5',\n",
       "  '2012',\n",
       "  '02',\n",
       "  'Suicide',\n",
       "  '0',\n",
       "  'M',\n",
       "  '31',\n",
       "  'White',\n",
       "  '100',\n",
       "  'Other specified',\n",
       "  '2',\n",
       "  datetime.datetime(2012, 2, 1, 0, 0)]]"
      ]
     },
     "execution_count": 4,
     "metadata": {},
     "output_type": "execute_result"
    }
   ],
   "source": [
    "import datetime\n",
    "for i, row in enumerate(data):\n",
    "    y=int(row[1])\n",
    "    m=int(row[2])\n",
    "    date = datetime.datetime(year=y, month=m, day=1)\n",
    "    row.append(date)\n",
    "data[:5]"
   ]
  },
  {
   "cell_type": "markdown",
   "metadata": {},
   "source": [
    "### Create monthwise death count"
   ]
  },
  {
   "cell_type": "code",
   "execution_count": 5,
   "metadata": {},
   "outputs": [
    {
     "name": "stdout",
     "output_type": "stream",
     "text": [
      "[datetime.datetime(2012, 1, 1, 0, 0), datetime.datetime(2012, 1, 1, 0, 0), datetime.datetime(2012, 1, 1, 0, 0), datetime.datetime(2012, 2, 1, 0, 0), datetime.datetime(2012, 2, 1, 0, 0)]\n"
     ]
    },
    {
     "data": {
      "text/plain": [
       "{'2012 01': 2758,\n",
       " '2012 02': 2357,\n",
       " '2012 03': 2743,\n",
       " '2012 04': 2795,\n",
       " '2012 05': 2999,\n",
       " '2012 06': 2826,\n",
       " '2012 07': 3026,\n",
       " '2012 08': 2954,\n",
       " '2012 09': 2852,\n",
       " '2012 10': 2733,\n",
       " '2012 11': 2729,\n",
       " '2012 12': 2791,\n",
       " '2013 01': 2864,\n",
       " '2013 02': 2375,\n",
       " '2013 03': 2862,\n",
       " '2013 04': 2798,\n",
       " '2013 05': 2806,\n",
       " '2013 06': 2920,\n",
       " '2013 07': 3079,\n",
       " '2013 08': 2859,\n",
       " '2013 09': 2742,\n",
       " '2013 10': 2808,\n",
       " '2013 11': 2758,\n",
       " '2013 12': 2765,\n",
       " '2014 01': 2651,\n",
       " '2014 02': 2361,\n",
       " '2014 03': 2684,\n",
       " '2014 04': 2862,\n",
       " '2014 05': 2864,\n",
       " '2014 06': 2931,\n",
       " '2014 07': 2884,\n",
       " '2014 08': 2970,\n",
       " '2014 09': 2914,\n",
       " '2014 10': 2865,\n",
       " '2014 11': 2756,\n",
       " '2014 12': 2857}"
      ]
     },
     "execution_count": 5,
     "metadata": {},
     "output_type": "execute_result"
    }
   ],
   "source": [
    "dates = []\n",
    "for row in data:\n",
    "    dates.append(row[11])\n",
    "print(dates[0:5])\n",
    "date_counts = {}\n",
    "for date in dates:\n",
    "    pretty_date = date.strftime(\"%Y %m\")\n",
    "    if pretty_date in date_counts:\n",
    "        date_counts[pretty_date] = date_counts[pretty_date] + 1\n",
    "    else:\n",
    "        date_counts[pretty_date] = 1\n",
    "pretty_date\n",
    "date_counts"
   ]
  },
  {
   "cell_type": "code",
   "execution_count": 6,
   "metadata": {},
   "outputs": [
    {
     "name": "stdout",
     "output_type": "stream",
     "text": [
      "{'M': 86349, 'F': 14449}\n"
     ]
    },
    {
     "data": {
      "text/plain": [
       "{'Asian/Pacific Islander': 1326,\n",
       " 'Black': 23296,\n",
       " 'Hispanic': 9022,\n",
       " 'Native American/Native Alaskan': 917,\n",
       " 'White': 66237}"
      ]
     },
     "execution_count": 6,
     "metadata": {},
     "output_type": "execute_result"
    }
   ],
   "source": [
    "sex = []\n",
    "for row in data:\n",
    "    sex.append(row[5])\n",
    "sex_counts = {}\n",
    "for row in sex:\n",
    "    if row in sex_counts:\n",
    "        sex_counts[row] = sex_counts[row] + 1\n",
    "    else:\n",
    "        sex_counts[row] = 1\n",
    "print(sex_counts)\n",
    "race = []\n",
    "for row in data:\n",
    "    race.append(row[7])\n",
    "race_counts = {}\n",
    "for row in race:\n",
    "    if row in race_counts:\n",
    "        race_counts[row] = race_counts[row] + 1\n",
    "    else:\n",
    "        race_counts[row] = 1\n",
    "race_counts"
   ]
  },
  {
   "cell_type": "markdown",
   "metadata": {},
   "source": [
    "### Findings so far\n",
    "\n",
    "There isn't much difference in the death rate across the months.\n",
    "\n",
    "The Sex and Race based analysis show death count is very high among men and in Black & White races.\n",
    "\n",
    "_The data need to be analysed further to understand why the death is high among men and among Whites and Blacks._"
   ]
  },
  {
   "cell_type": "markdown",
   "metadata": {},
   "source": [
    "### Open and extract census data to compute the rate of homicides across races"
   ]
  },
  {
   "cell_type": "code",
   "execution_count": 13,
   "metadata": {},
   "outputs": [
    {
     "data": {
      "text/plain": [
       "[['Id',\n",
       "  'Year',\n",
       "  'Id',\n",
       "  'Sex',\n",
       "  'Id',\n",
       "  'Hispanic Origin',\n",
       "  'Id',\n",
       "  'Id2',\n",
       "  'Geography',\n",
       "  'Total',\n",
       "  'Race Alone - White',\n",
       "  'Race Alone - Hispanic',\n",
       "  'Race Alone - Black or African American',\n",
       "  'Race Alone - American Indian and Alaska Native',\n",
       "  'Race Alone - Asian',\n",
       "  'Race Alone - Native Hawaiian and Other Pacific Islander',\n",
       "  'Two or More Races'],\n",
       " ['cen42010',\n",
       "  'April 1, 2010 Census',\n",
       "  'totsex',\n",
       "  'Both Sexes',\n",
       "  'tothisp',\n",
       "  'Total',\n",
       "  '0100000US',\n",
       "  '',\n",
       "  'United States',\n",
       "  '308745538',\n",
       "  '197318956',\n",
       "  '44618105',\n",
       "  '40250635',\n",
       "  '3739506',\n",
       "  '15159516',\n",
       "  '674625',\n",
       "  '6984195']]"
      ]
     },
     "execution_count": 13,
     "metadata": {},
     "output_type": "execute_result"
    }
   ],
   "source": [
    "c = open(\"census.csv\", 'r')\n",
    "census_csvreader = csv.reader(c)\n",
    "census = list(census_csvreader)\n",
    "census"
   ]
  },
  {
   "cell_type": "code",
   "execution_count": 14,
   "metadata": {},
   "outputs": [
    {
     "data": {
      "text/plain": [
       "['cen42010',\n",
       " 'April 1, 2010 Census',\n",
       " 'totsex',\n",
       " 'Both Sexes',\n",
       " 'tothisp',\n",
       " 'Total',\n",
       " '0100000US',\n",
       " '',\n",
       " 'United States',\n",
       " '308745538',\n",
       " '197318956',\n",
       " '44618105',\n",
       " '40250635',\n",
       " '3739506',\n",
       " '15159516',\n",
       " '674625',\n",
       " '6984195']"
      ]
     },
     "execution_count": 14,
     "metadata": {},
     "output_type": "execute_result"
    }
   ],
   "source": [
    "census = census[1]\n",
    "census"
   ]
  },
  {
   "cell_type": "markdown",
   "metadata": {},
   "source": [
    "### Map the census data to the population based on the below rules: \n",
    "1. Asian/Pacific Islander -- Race Alone - Asian plus Race Alone - Native Hawaiian and Other Pacific Islander.\n",
    "2. Black -- Race Alone - Black or African American.\n",
    "3. Hispanic -- Race Alone - Hispanic\n",
    "4. Native American/Native Alaskan -- Race Alone - American Indian and Alaska Native\n",
    "5. White -- Race Alone - White\n",
    "\n",
    "### Compute the gun death rate per 100,000 "
   ]
  },
  {
   "cell_type": "code",
   "execution_count": 15,
   "metadata": {
    "scrolled": true
   },
   "outputs": [
    {
     "data": {
      "text/plain": [
       "{'Asian/Pacific Islander': 8.374309664161762,\n",
       " 'Black': 57.8773477735196,\n",
       " 'Hispanic': 20.220491210910907,\n",
       " 'Native American/Native Alaskan': 24.521955573811088,\n",
       " 'White': 33.56849303419181}"
      ]
     },
     "execution_count": 15,
     "metadata": {},
     "output_type": "execute_result"
    }
   ],
   "source": [
    "mapping = {'Black': 40250635, 'Asian/Pacific Islander': 15834141, \n",
    "           'Native American/Native Alaskan': 3739506, \n",
    "           'Hispanic': 44618105, 'White': 197318956 }\n",
    "race_per_hundredk = {}\n",
    "for key, value in enumerate(race_counts):\n",
    "    race_per_hundredk[value] = ( race_counts[value] / mapping[value] ) * 100000\n",
    "race_per_hundredk"
   ]
  },
  {
   "cell_type": "markdown",
   "metadata": {},
   "source": [
    "### Compute homicide rate per 100,000 across races "
   ]
  },
  {
   "cell_type": "code",
   "execution_count": 16,
   "metadata": {},
   "outputs": [
    {
     "data": {
      "text/plain": [
       "{'Asian/Pacific Islander': 559,\n",
       " 'Black': 19510,\n",
       " 'Hispanic': 5634,\n",
       " 'Native American/Native Alaskan': 326,\n",
       " 'White': 9147}"
      ]
     },
     "execution_count": 16,
     "metadata": {},
     "output_type": "execute_result"
    }
   ],
   "source": [
    "intents = [row[3] for row in data]\n",
    "races = [row[7] for row in data]\n",
    "homicide_race_counts = {}\n",
    "for i, race in enumerate(races):\n",
    "    if intents[i] == \"Homicide\":\n",
    "        if race in homicide_race_counts:\n",
    "            homicide_race_counts[race] = homicide_race_counts[race] + 1\n",
    "        else:\n",
    "            homicide_race_counts[race] = 1\n",
    "homicide_race_counts"
   ]
  },
  {
   "cell_type": "code",
   "execution_count": 17,
   "metadata": {},
   "outputs": [
    {
     "data": {
      "text/plain": [
       "{'Asian/Pacific Islander': 3.530346230970155,\n",
       " 'Black': 48.471284987180944,\n",
       " 'Hispanic': 12.627161104219914,\n",
       " 'Native American/Native Alaskan': 8.717729026240365,\n",
       " 'White': 4.6356417981453335}"
      ]
     },
     "execution_count": 17,
     "metadata": {},
     "output_type": "execute_result"
    }
   ],
   "source": [
    "homicide_rate_per_hundredk = {}\n",
    "for key, value in enumerate(homicide_race_counts):\n",
    "    homicide_rate_per_hundredk[value] = ( homicide_race_counts[value] / mapping[value] ) * 100000\n",
    "homicide_rate_per_hundredk"
   ]
  },
  {
   "cell_type": "markdown",
   "metadata": {},
   "source": [
    "## Findings\n",
    "\n",
    "After computing the rate of homicides there is significant difference from the numbers computed earlier. \n",
    "\n",
    "_**The homicide rate is clearly high among the Black community. **_"
   ]
  },
  {
   "cell_type": "markdown",
   "metadata": {},
   "source": [
    "## Homicide Count by month"
   ]
  },
  {
   "cell_type": "code",
   "execution_count": 18,
   "metadata": {},
   "outputs": [
    {
     "data": {
      "text/plain": [
       "{'01': 2829,\n",
       " '02': 2178,\n",
       " '03': 2780,\n",
       " '04': 2845,\n",
       " '05': 2976,\n",
       " '06': 3130,\n",
       " '07': 3269,\n",
       " '08': 3125,\n",
       " '09': 2966,\n",
       " '10': 2968,\n",
       " '11': 2919,\n",
       " '12': 3191}"
      ]
     },
     "execution_count": 18,
     "metadata": {},
     "output_type": "execute_result"
    }
   ],
   "source": [
    "months = [row[11].strftime(\"%m\") for row in data]\n",
    "monthly_homicide_race_counts = {}\n",
    "for i, month in enumerate(months):\n",
    "    if intents[i] == \"Homicide\":\n",
    "        if month in monthly_homicide_race_counts:\n",
    "            monthly_homicide_race_counts[month] = monthly_homicide_race_counts[month] + 1\n",
    "        else:\n",
    "            monthly_homicide_race_counts[month] = 1\n",
    "monthly_homicide_race_counts"
   ]
  },
  {
   "cell_type": "markdown",
   "metadata": {
    "collapsed": true
   },
   "source": [
    "## Homicide Rate by Gender"
   ]
  },
  {
   "cell_type": "code",
   "execution_count": 37,
   "metadata": {},
   "outputs": [
    {
     "data": {
      "text/plain": [
       "{'F': 3.480536130047651, 'M': 19.305866049471458}"
      ]
     },
     "execution_count": 37,
     "metadata": {},
     "output_type": "execute_result"
    }
   ],
   "source": [
    "sex = [row[5] for row in data]\n",
    "homicide_gender_counts = {}\n",
    "for i, gender in enumerate(sex):\n",
    "    if intents[i] == \"Homicide\":\n",
    "        if gender in homicide_gender_counts:\n",
    "            homicide_gender_counts[gender] = homicide_gender_counts[gender] + 1 \n",
    "        else:\n",
    "            homicide_gender_counts[gender] = 1\n",
    "homicide_gender_counts\n",
    "homicide_gender_rate_per_hundredk = {}\n",
    "for key, value in enumerate(homicide_gender_counts):\n",
    "    homicide_gender_rate_per_hundredk[value] = ( homicide_gender_counts[value] / 154372769 ) * 100000\n",
    "# The value 154372769 was derived with the assumption that men account for 50% of the total census population 308,745,538 \n",
    "homicide_gender_rate_per_hundredk"
   ]
  },
  {
   "cell_type": "markdown",
   "metadata": {},
   "source": [
    "### Assumption \n",
    "Men and women constitutes 50% each of the total census population. \n",
    "\n",
    "### Findings\n",
    "Homicide is realtively too low among women, men seems to be at most 6 times more likely to die of a gun related homicide. "
   ]
  },
  {
   "cell_type": "markdown",
   "metadata": {},
   "source": [
    "##  Accidental death rate by race per 100,000"
   ]
  },
  {
   "cell_type": "code",
   "execution_count": 32,
   "metadata": {},
   "outputs": [
    {
     "data": {
      "text/plain": [
       "{'Asian/Pacific Islander': 0.07578560782046845,\n",
       " 'Black': 0.814893976206835,\n",
       " 'Hispanic': 0.3249801846133985,\n",
       " 'Native American/Native Alaskan': 0.5883130017708221,\n",
       " 'White': 0.5736904466492313}"
      ]
     },
     "execution_count": 32,
     "metadata": {},
     "output_type": "execute_result"
    }
   ],
   "source": [
    "accidental_race_counts = {}\n",
    "for i, race in enumerate(races):\n",
    "    if intents[i] == \"Accidental\":\n",
    "        if race in accidental_race_counts:\n",
    "            accidental_race_counts[race] = accidental_race_counts[race] + 1\n",
    "        else:\n",
    "            accidental_race_counts[race] = 1\n",
    "accidental_rate_per_hundredk = {}\n",
    "for key, value in enumerate(accidental_race_counts):\n",
    "    accidental_rate_per_hundredk[value] = ( accidental_race_counts[value] / mapping[value] ) * 100000\n",
    "accidental_rate_per_hundredk"
   ]
  },
  {
   "cell_type": "markdown",
   "metadata": {},
   "source": [
    "### Finding\n",
    "\n",
    "The rates per 100K people show that accidental deaths are significantly low compared to homicide rates. However, there is still slightly higher chance for the Blacks to accidental die of a gun shot. "
   ]
  },
  {
   "cell_type": "markdown",
   "metadata": {},
   "source": [
    "## Accidental death rate by gender per 100,000"
   ]
  },
  {
   "cell_type": "code",
   "execution_count": 38,
   "metadata": {},
   "outputs": [
    {
     "data": {
      "text/plain": [
       "{'F': 0.14121661573616004, 'M': 0.9204991328490066}"
      ]
     },
     "execution_count": 38,
     "metadata": {},
     "output_type": "execute_result"
    }
   ],
   "source": [
    "accidental_gender_counts = {}\n",
    "for i, gender in enumerate(sex):\n",
    "    if intents[i] == \"Accidental\":\n",
    "        if gender in accidental_gender_counts:\n",
    "            accidental_gender_counts[gender] = accidental_gender_counts[gender] + 1 \n",
    "        else:\n",
    "            accidental_gender_counts[gender] = 1\n",
    "accidental_gender_rate_per_hundredk = {}\n",
    "for key, value in enumerate(accidental_gender_counts):\n",
    "    accidental_gender_rate_per_hundredk[value] = ( accidental_gender_counts[value] / 154372769 ) * 100000\n",
    "# The value 154372769 was derived with the assumption that men account for 50% of the total census population 308,745,538 \n",
    "accidental_gender_rate_per_hundredk"
   ]
  },
  {
   "cell_type": "markdown",
   "metadata": {},
   "source": [
    "### Findings \n",
    "\n",
    "There is a huge disparity in the accidental gun related death among men and women. Men seem to be at least 6 times more likely to die of gun related accident across America. Nonetheless, the rate of accidental deaths among 100,000 people is low in comparison to homicide rate. "
   ]
  }
 ],
 "metadata": {
  "kernelspec": {
   "display_name": "Python 3",
   "language": "python",
   "name": "python3"
  },
  "language_info": {
   "codemirror_mode": {
    "name": "ipython",
    "version": 3
   },
   "file_extension": ".py",
   "mimetype": "text/x-python",
   "name": "python",
   "nbconvert_exporter": "python",
   "pygments_lexer": "ipython3",
   "version": "3.6.4"
  }
 },
 "nbformat": 4,
 "nbformat_minor": 1
}
