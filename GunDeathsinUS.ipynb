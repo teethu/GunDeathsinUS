{
 "cells": [
  {
   "cell_type": "markdown",
   "metadata": {},
   "source": [
    "# Exploring Gun Deaths in the US (Period 2012-2014)"
   ]
  },
  {
   "cell_type": "code",
   "execution_count": 1,
   "metadata": {},
   "outputs": [
    {
     "name": "stdout",
     "output_type": "stream",
     "text": [
      "[['', 'year', 'month', 'intent', 'police', 'sex', 'age', 'race', 'hispanic', 'place', 'education'], ['1', '2012', '01', 'Suicide', '0', 'M', '34', 'Asian/Pacific Islander', '100', 'Home', '4'], ['2', '2012', '01', 'Suicide', '0', 'F', '21', 'White', '100', 'Street', '3'], ['3', '2012', '01', 'Suicide', '0', 'M', '60', 'White', '100', 'Other specified', '4'], ['4', '2012', '02', 'Suicide', '0', 'M', '64', 'White', '100', 'Home', '4']]\n"
     ]
    }
   ],
   "source": [
    "import csv\n",
    "f = open(\"guns.csv\",'r')\n",
    "csvreader = csv.reader(f)\n",
    "data = list(csvreader)\n",
    "print(data[:5])"
   ]
  },
  {
   "cell_type": "code",
   "execution_count": 2,
   "metadata": {},
   "outputs": [
    {
     "name": "stdout",
     "output_type": "stream",
     "text": [
      "[['', 'year', 'month', 'intent', 'police', 'sex', 'age', 'race', 'hispanic', 'place', 'education']]\n",
      "[['1', '2012', '01', 'Suicide', '0', 'M', '34', 'Asian/Pacific Islander', '100', 'Home', '4'], ['2', '2012', '01', 'Suicide', '0', 'F', '21', 'White', '100', 'Street', '3'], ['3', '2012', '01', 'Suicide', '0', 'M', '60', 'White', '100', 'Other specified', '4'], ['4', '2012', '02', 'Suicide', '0', 'M', '64', 'White', '100', 'Home', '4'], ['5', '2012', '02', 'Suicide', '0', 'M', '31', 'White', '100', 'Other specified', '2']]\n"
     ]
    }
   ],
   "source": [
    "headers = data[0:1]\n",
    "data = data[1:len(data)]\n",
    "print(headers)\n",
    "print(data[0:5])"
   ]
  },
  {
   "cell_type": "code",
   "execution_count": 3,
   "metadata": {},
   "outputs": [
    {
     "name": "stdout",
     "output_type": "stream",
     "text": [
      "{'2012': 33563, '2013': 33636, '2014': 33599}\n"
     ]
    }
   ],
   "source": [
    "years = []\n",
    "for row in data:\n",
    "    years.append(row[1])\n",
    "year_counts = {}\n",
    "for year in years:\n",
    "    if year in year_counts:\n",
    "        year_counts[year] = year_counts[year] + 1\n",
    "    else:\n",
    "        year_counts[year] = 1 \n",
    "print(year_counts)"
   ]
  },
  {
   "cell_type": "code",
   "execution_count": 4,
   "metadata": {},
   "outputs": [
    {
     "name": "stdout",
     "output_type": "stream",
     "text": [
      "[['1', '2012', '01', 'Suicide', '0', 'M', '34', 'Asian/Pacific Islander', '100', 'Home', '4', datetime.datetime(2012, 1, 1, 0, 0)], ['2', '2012', '01', 'Suicide', '0', 'F', '21', 'White', '100', 'Street', '3', datetime.datetime(2012, 1, 1, 0, 0)], ['3', '2012', '01', 'Suicide', '0', 'M', '60', 'White', '100', 'Other specified', '4', datetime.datetime(2012, 1, 1, 0, 0)], ['4', '2012', '02', 'Suicide', '0', 'M', '64', 'White', '100', 'Home', '4', datetime.datetime(2012, 2, 1, 0, 0)], ['5', '2012', '02', 'Suicide', '0', 'M', '31', 'White', '100', 'Other specified', '2', datetime.datetime(2012, 2, 1, 0, 0)]]\n"
     ]
    }
   ],
   "source": [
    "import datetime\n",
    "for i, row in enumerate(data):\n",
    "    y=int(row[1])\n",
    "    m=int(row[2])\n",
    "    date = datetime.datetime(year=y, month=m, day=1)\n",
    "    row.append(date)\n",
    "print(data[0:5])"
   ]
  },
  {
   "cell_type": "code",
   "execution_count": 5,
   "metadata": {},
   "outputs": [
    {
     "name": "stdout",
     "output_type": "stream",
     "text": [
      "[datetime.datetime(2012, 1, 1, 0, 0), datetime.datetime(2012, 1, 1, 0, 0), datetime.datetime(2012, 1, 1, 0, 0), datetime.datetime(2012, 2, 1, 0, 0), datetime.datetime(2012, 2, 1, 0, 0)]\n",
      "2014 10\n",
      "{'2012 01': 2758, '2012 02': 2357, '2012 03': 2743, '2012 04': 2795, '2012 05': 2999, '2012 06': 2826, '2012 07': 3026, '2012 08': 2954, '2012 09': 2852, '2012 10': 2733, '2012 11': 2729, '2012 12': 2791, '2013 01': 2864, '2013 02': 2375, '2013 03': 2862, '2013 04': 2798, '2013 05': 2806, '2013 06': 2920, '2013 07': 3079, '2013 08': 2859, '2013 09': 2742, '2013 10': 2808, '2013 11': 2758, '2013 12': 2765, '2014 01': 2651, '2014 02': 2361, '2014 03': 2684, '2014 04': 2862, '2014 05': 2864, '2014 06': 2931, '2014 07': 2884, '2014 08': 2970, '2014 09': 2914, '2014 10': 2865, '2014 11': 2756, '2014 12': 2857}\n"
     ]
    }
   ],
   "source": [
    "dates = []\n",
    "for row in data:\n",
    "    dates.append(row[11])\n",
    "print(dates[0:5])\n",
    "date_counts = {}\n",
    "for date in dates:\n",
    "    pretty_date = date.strftime(\"%Y %m\")\n",
    "    if pretty_date in date_counts:\n",
    "        date_counts[pretty_date] = date_counts[pretty_date] + 1\n",
    "    else:\n",
    "        date_counts[pretty_date] = 1\n",
    "print(pretty_date)\n",
    "print(date_counts)"
   ]
  },
  {
   "cell_type": "code",
   "execution_count": 12,
   "metadata": {},
   "outputs": [
    {
     "name": "stdout",
     "output_type": "stream",
     "text": [
      "{'M': 86349, 'F': 14449}\n",
      "{'Asian/Pacific Islander': 1326, 'White': 66237, 'Native American/Native Alaskan': 917, 'Black': 23296, 'Hispanic': 9022}\n"
     ]
    }
   ],
   "source": [
    "sex = []\n",
    "for row in data:\n",
    "    sex.append(row[5])\n",
    "sex_counts = {}\n",
    "for row in sex:\n",
    "    if row in sex_counts:\n",
    "        sex_counts[row] = sex_counts[row] + 1\n",
    "    else:\n",
    "        sex_counts[row] = 1\n",
    "print(sex_counts)\n",
    "race = []\n",
    "for row in data:\n",
    "    race.append(row[7])\n",
    "race_counts = {}\n",
    "for row in race:\n",
    "    if row in race_counts:\n",
    "        race_counts[row] = race_counts[row] + 1\n",
    "    else:\n",
    "        race_counts[row] = 1\n",
    "print(race_counts)"
   ]
  },
  {
   "cell_type": "markdown",
   "metadata": {},
   "source": [
    "There isn't much difference in the death rate across the months. \n",
    "\n",
    "The Sex and Race analysis shows death rate is very high among men and in Black & White races. \n",
    "\n",
    "The data need to be analysed further to understand why the death is high among men and among Whites and Blacks. "
   ]
  },
  {
   "cell_type": "code",
   "execution_count": 7,
   "metadata": {},
   "outputs": [
    {
     "name": "stdout",
     "output_type": "stream",
     "text": [
      "[['Id', 'Year', 'Id', 'Sex', 'Id', 'Hispanic Origin', 'Id', 'Id2', 'Geography', 'Total', 'Race Alone - White', 'Race Alone - Hispanic', 'Race Alone - Black or African American', 'Race Alone - American Indian and Alaska Native', 'Race Alone - Asian', 'Race Alone - Native Hawaiian and Other Pacific Islander', 'Two or More Races'], ['cen42010', 'April 1, 2010 Census', 'totsex', 'Both Sexes', 'tothisp', 'Total', '0100000US', '', 'United States', '308745538', '197318956', '44618105', '40250635', '3739506', '15159516', '674625', '6984195']]\n",
      "['cen42010', 'April 1, 2010 Census', 'totsex', 'Both Sexes', 'tothisp', 'Total', '0100000US', '', 'United States', '308745538', '197318956', '44618105', '40250635', '3739506', '15159516', '674625', '6984195']\n"
     ]
    }
   ],
   "source": [
    "c = open(\"census.csv\", 'r')\n",
    "census_csvreader = csv.reader(c)\n",
    "census = list(census_csvreader)\n",
    "print(census)\n",
    "census = census[1]\n",
    "print(census)"
   ]
  },
  {
   "cell_type": "markdown",
   "metadata": {},
   "source": []
  },
  {
   "cell_type": "code",
   "execution_count": 8,
   "metadata": {
    "scrolled": true
   },
   "outputs": [
    {
     "name": "stdout",
     "output_type": "stream",
     "text": [
      "{'Asian/Pacific Islander': 8.374309664161762, 'White': 33.56849303419181, 'Native American/Native Alaskan': 24.521955573811088, 'Black': 57.8773477735196, 'Hispanic': 20.220491210910907}\n"
     ]
    }
   ],
   "source": [
    "mapping = {'Black': 40250635, 'Asian/Pacific Islander': 15834141, \n",
    "           'Native American/Native Alaskan': 3739506, \n",
    "           'Hispanic': 44618105, 'White': 197318956 }\n",
    "race_per_hundredk = {}\n",
    "for key, value in enumerate(race_counts):\n",
    "    race_per_hundredk[value] = ( race_counts[value] / mapping[value] ) * 100000\n",
    "print(race_per_hundredk)    "
   ]
  },
  {
   "cell_type": "code",
   "execution_count": 9,
   "metadata": {},
   "outputs": [
    {
     "name": "stdout",
     "output_type": "stream",
     "text": [
      "{'White': 9147, 'Asian/Pacific Islander': 559, 'Black': 19510, 'Native American/Native Alaskan': 326, 'Hispanic': 5634}\n"
     ]
    }
   ],
   "source": [
    "intents = [row[3] for row in data]\n",
    "races = [row[7] for row in data]\n",
    "homicide_race_counts = {}\n",
    "for i, race in enumerate(races):\n",
    "    if intents[i] == \"Homicide\":\n",
    "        if race in homicide_race_counts:\n",
    "            homicide_race_counts[race] = homicide_race_counts[race] + 1\n",
    "        else:\n",
    "            homicide_race_counts[race] = 1\n",
    "print(homicide_race_counts)"
   ]
  },
  {
   "cell_type": "code",
   "execution_count": 10,
   "metadata": {},
   "outputs": [
    {
     "name": "stdout",
     "output_type": "stream",
     "text": [
      "{'White': 4.6356417981453335, 'Asian/Pacific Islander': 3.530346230970155, 'Black': 48.471284987180944, 'Native American/Native Alaskan': 8.717729026240365, 'Hispanic': 12.627161104219914}\n"
     ]
    }
   ],
   "source": [
    "homicide_rate_per_hundredk = {}\n",
    "for key, value in enumerate(homicide_race_counts):\n",
    "    homicide_rate_per_hundredk[value] = ( homicide_race_counts[value] / mapping[value] ) * 100000\n",
    "print(homicide_rate_per_hundredk) "
   ]
  },
  {
   "cell_type": "markdown",
   "metadata": {},
   "source": [
    "After computing the rate of homicides there is significant difference from the numbers computed earlier. \n",
    "\n",
    "The homicide rate is quite high among the Black community. "
   ]
  },
  {
   "cell_type": "markdown",
   "metadata": {},
   "source": [
    "## Homicide Count by the month"
   ]
  },
  {
   "cell_type": "code",
   "execution_count": 11,
   "metadata": {},
   "outputs": [
    {
     "name": "stdout",
     "output_type": "stream",
     "text": [
      "{'03': 2780, '04': 2845, '06': 3130, '07': 3269, '08': 3125, '09': 2966, '10': 2968, '12': 3191, '01': 2829, '02': 2178, '05': 2976, '11': 2919}\n"
     ]
    }
   ],
   "source": [
    "months = [row[11].strftime(\"%m\") for row in data]\n",
    "monthly_homicide_race_counts = {}\n",
    "for i, month in enumerate(months):\n",
    "    if intents[i] == \"Homicide\":\n",
    "        if month in monthly_homicide_race_counts:\n",
    "            monthly_homicide_race_counts[month] = monthly_homicide_race_counts[month] + 1\n",
    "        else:\n",
    "            monthly_homicide_race_counts[month] = 1\n",
    "print(monthly_homicide_race_counts)"
   ]
  },
  {
   "cell_type": "markdown",
   "metadata": {
    "collapsed": true
   },
   "source": [
    "## Homicide Rate by Gender"
   ]
  },
  {
   "cell_type": "code",
   "execution_count": null,
   "metadata": {},
   "outputs": [],
   "source": []
  }
 ],
 "metadata": {
  "kernelspec": {
   "display_name": "Python 3",
   "language": "python",
   "name": "python3"
  },
  "language_info": {
   "codemirror_mode": {
    "name": "ipython",
    "version": 3
   },
   "file_extension": ".py",
   "mimetype": "text/x-python",
   "name": "python",
   "nbconvert_exporter": "python",
   "pygments_lexer": "ipython3",
   "version": "3.6.4"
  }
 },
 "nbformat": 4,
 "nbformat_minor": 1
}
